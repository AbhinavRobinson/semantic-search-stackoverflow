{
 "cells": [
  {
   "cell_type": "markdown",
   "metadata": {},
   "source": [
    "# StackOverflow Search Optimazation"
   ]
  },
  {
   "cell_type": "markdown",
   "metadata": {},
   "source": [
    "#### Importing the required libraries"
   ]
  },
  {
   "cell_type": "code",
   "execution_count": 1,
   "metadata": {
    "colab": {},
    "colab_type": "code",
    "id": "n4NDfFcheOu0"
   },
   "outputs": [
    {
     "name": "stderr",
     "output_type": "stream",
     "text": [
      "WARNING: Logging before flag parsing goes to stderr.\n",
      "W0606 17:56:17.851990 57928 __init__.py:56] Some hub symbols are not available because TensorFlow version is less than 1.14\n"
     ]
    }
   ],
   "source": [
    "import tensorflow as tf\n",
    "import tensorflow_hub as hub\n",
    "import numpy as np\n",
    "import nltk\n",
    "import requests\n",
    "from itertools import combinations"
   ]
  },
  {
   "cell_type": "markdown",
   "metadata": {},
   "source": [
    "#### Processing the input query to get tags\n",
    "This function uses NLTK (Natural language toolkit) to tokenize the query an d remove stopwords. A maximum of only 5 tags are returned as per the StackExchange API."
   ]
  },
  {
   "cell_type": "code",
   "execution_count": 2,
   "metadata": {
    "colab": {},
    "colab_type": "code",
    "id": "lkG4-QnazgE9"
   },
   "outputs": [],
   "source": [
    "def get_tags(input):\n",
    "    nltk.download('punkt')\n",
    "    nltk.download('stopwords')\n",
    "    from nltk.tokenize import word_tokenize\n",
    "    from nltk.corpus import stopwords\n",
    "    tokenized_word=word_tokenize(input)\n",
    "    stop_words=set(stopwords.words(\"english\"))\n",
    "    filtered_sent=[]\n",
    "    for w in tokenized_word:\n",
    "        if w not in stop_words:\n",
    "            filtered_sent.append(w)\n",
    "    if len(filtered_sent) > 5:\n",
    "      return filtered_sent[:5]\n",
    "    else:\n",
    "      return filtered_sent"
   ]
  },
  {
   "cell_type": "markdown",
   "metadata": {},
   "source": [
    "#### Requesting the StackExchange API for questions using the tags obatained\n",
    "A list of all the combination of tags is created to request the API. This is done to maximize the chance of getting questions with atleast any one of the tag included. "
   ]
  },
  {
   "cell_type": "code",
   "execution_count": 3,
   "metadata": {
    "colab": {},
    "colab_type": "code",
    "id": "I78zFp9YzoCz"
   },
   "outputs": [],
   "source": [
    "def get_questions(tags):\n",
    "    temp = []\n",
    "    messages = []\n",
    "    data = []\n",
    "    #Creating a list of all the possible combinations of tags\n",
    "    for i in range(1, len(tags)+1):\n",
    "        comb = []\n",
    "        comb.append(list(combinations(tags, i)))\n",
    "        for j in range(0, len(comb[0])):\n",
    "            temp.append(list(comb[0][j]))\n",
    "    #Making API calls to all the possible URLs\n",
    "    messages = []\n",
    "    desc = []\n",
    "    for i in range(len(temp)-1, -1, -1):\n",
    "        url = ''\n",
    "        for j in temp[i]:\n",
    "            url += j + '%3B'\n",
    "        URL = f'https://api.stackexchange.com/2.2/questions?order=asc&sort=activity&tagged={url}&site=stackoverflow'\n",
    "        r = requests.get(url = URL)\n",
    "        data = r.json()\n",
    "        for item in data['items']:\n",
    "          desc.append(item)\n",
    "          messages.append(item['title'])\n",
    "    return [messages,desc]"
   ]
  },
  {
   "cell_type": "markdown",
   "metadata": {},
   "source": [
    "#### Calculating the similarities\n",
    "Using TensorFlow Hub's Universal Sentence Encoder to calculate embeddings for all the questions. Then the inner product of the embeddings gives the similarities between them."
   ]
  },
  {
   "cell_type": "code",
   "execution_count": 4,
   "metadata": {
    "colab": {},
    "colab_type": "code",
    "id": "LpTs8MFa0TdI"
   },
   "outputs": [],
   "source": [
    "#Converting sentences to embeddings and computing the inner product to calculate similarity\n",
    "def get_similarity(questions):\n",
    "    url = \"https://tfhub.dev/google/universal-sentence-encoder/2\" \n",
    "    embed = hub.Module(url)\n",
    "    placeholder = tf.placeholder(tf.string, shape=(None))\n",
    "    question_encodings = embed(placeholder)\n",
    "    with tf.Session() as session:\n",
    "        session.run(tf.global_variables_initializer())\n",
    "        session.run(tf.tables_initializer())\n",
    "        embeddings = session.run(question_encodings, feed_dict={placeholder: questions})\n",
    "        similarity = np.inner(embeddings, embeddings[-1:])\n",
    "    dictItems = []\n",
    "    i = 0\n",
    "    for i in range(0, len(similarity)-1 ):\n",
    "        temp = { \"probability\" : similarity.item(i), \"title\" : questions[i] }\n",
    "        dictItems.append(temp)\n",
    "    return dictItems"
   ]
  },
  {
   "cell_type": "markdown",
   "metadata": {},
   "source": [
    "#### Reduce logging"
   ]
  },
  {
   "cell_type": "code",
   "execution_count": 5,
   "metadata": {},
   "outputs": [],
   "source": [
    "tf.logging.set_verbosity(tf.logging.ERROR)"
   ]
  },
  {
   "cell_type": "markdown",
   "metadata": {},
   "source": [
    "\n",
    "#### Execution:\n",
    "1. `input` is defined.\n",
    "2. tags are obtained by calling `get_tags()`\n",
    "3. questions are obtained by calling `get_question()`\n",
    "4. Finally `get_similarity()` is called to calculate similarities.\n",
    "\n",
    "#### Note:\n",
    "* Sorting is taken care of in the frontend.\n",
    "* Error handling is also handled by the frontend."
   ]
  },
  {
   "cell_type": "code",
   "execution_count": 6,
   "metadata": {},
   "outputs": [],
   "source": [
    "input = \"define numpy array\""
   ]
  },
  {
   "cell_type": "code",
   "execution_count": 7,
   "metadata": {},
   "outputs": [
    {
     "name": "stderr",
     "output_type": "stream",
     "text": [
      "[nltk_data] Downloading package punkt to\n",
      "[nltk_data]     C:\\Users\\nipun\\AppData\\Roaming\\nltk_data...\n",
      "[nltk_data]   Package punkt is already up-to-date!\n",
      "[nltk_data] Downloading package stopwords to\n",
      "[nltk_data]     C:\\Users\\nipun\\AppData\\Roaming\\nltk_data...\n",
      "[nltk_data]   Package stopwords is already up-to-date!\n"
     ]
    },
    {
     "data": {
      "text/plain": [
       "['define', 'numpy', 'array']"
      ]
     },
     "execution_count": 7,
     "metadata": {},
     "output_type": "execute_result"
    }
   ],
   "source": [
    "tags = get_tags(input)\n",
    "tags"
   ]
  },
  {
   "cell_type": "code",
   "execution_count": 8,
   "metadata": {},
   "outputs": [
    {
     "data": {
      "text/plain": [
       "['Adding a dimension to every element of a numpy.array',\n",
       " 'Is &#39;for x in array&#39; always result in sorted x? [Python/NumPy]',\n",
       " 'Definition of mathematical operations (sin…) on NumPy arrays containing objects',\n",
       " 'Removing Array Elements in Python while keeping track of their position',\n",
       " 'Returning array of data mapping values to parameters in python',\n",
       " 'Calculating conditional probabilities from joint pmfs in numpy, too slow. Ideas? (python-numpy)',\n",
       " 'Simple question: In numpy how do you make a multidimensional array of arrays?',\n",
       " 'Better use a tuple or numpy array for storing coordinates',\n",
       " 'Convert a python numpy array to c++ stl vector',\n",
       " 'Extending a series of nonuniform netcdf data in a numpy array',\n",
       " 'Objects array with numpy',\n",
       " 'removing pairs of elements from numpy arrays that are NaN (or another value) in Python',\n",
       " 'merging indexed array in Python',\n",
       " 'How does one wrap numpy array types?',\n",
       " 'linear combinations in python/numpy',\n",
       " 'Python: shape of a matrix and imshow()',\n",
       " 'Python: Error --&gt; setting an array element with a sequence',\n",
       " 'Create a new array from numpy array based on the conditions from a list',\n",
       " 'Organizing and building a numpy array for a dynamic equation input',\n",
       " 'Numpy - why value error for NaN when trying to delete rows',\n",
       " 'Arithmetic Progression in Python without storing all the values',\n",
       " 'calculating means of many matrices in numpy',\n",
       " 'error message when populating cell in 2d numpy array',\n",
       " 'Numpy.array indexing question',\n",
       " 'Python Numpy ndarray',\n",
       " 'How do I create a numpy array from string?',\n",
       " 'Modifying an advanced-indexed subset of a NumPy recarray in place',\n",
       " 'Python &quot;Value Error: cannot delete array elements&quot; -- Why am I getting this?',\n",
       " 'How to detect if the values in array are in a certain range and return a binary array in Python?',\n",
       " 'How to force a ndarray show in normal way instead of scientific notation?',\n",
       " 'Using C#, what is the most efficient method of converting a string containing binary data to an array of bytes',\n",
       " 'Computationally efficient three dimensional arrays in C',\n",
       " 'How can I get the unique values of an array in .net?',\n",
       " 'How do I convert a Ruby string with brackets to an array?',\n",
       " 'Is is possible to convert C# double[,,] array to double[] without making a copy',\n",
       " 'Large array arithmetics in C#',\n",
       " 'C101: the best way to fill an array from user input?',\n",
       " 'Fastest way to see how many bytes are equal between fixed length arrays',\n",
       " 'What is the meaning and impication of one-element-too-large array/queue?',\n",
       " 'Java: Arrays &amp; Vectors',\n",
       " 'Problem with vector inside a class',\n",
       " 'Converting std::vector&lt;&gt;::iterator to .NET interface in C++/CLI',\n",
       " 'Using Length() with multi-dimensional dynamic arrays in Delphi',\n",
       " 'Object arrays in method signatures',\n",
       " 'Serialization of a long array (in C)',\n",
       " 'How do I shrink an array in Perl?',\n",
       " 'Best practices for handling variable size arrays in c / c++?',\n",
       " 'Insert array into database in a single row',\n",
       " 'What&#39;s faster in VB? Removing an element from an array or inserting one?',\n",
       " 'PHP Array Help',\n",
       " 'What is the best method of getting the key of the last added array item in PHP?',\n",
       " 'What&#39;s the C# method/syntax for converting an array to a simple string?',\n",
       " 'Convert Byte Array to Integer In VB.Net',\n",
       " 'Dynamic Arrays',\n",
       " 'How do you remove a value that has an empty key from an associative array in PHP?',\n",
       " 'Is there an expandable list of object references in Java?',\n",
       " 'Howto initialise char array style string in constructor',\n",
       " 'can you write extension methods on type arrays?',\n",
       " 'KSH scripting: how to split on &#39;,&#39; when values have escaped commas?',\n",
       " 'How to disable array bounds checking in opensource Java?',\n",
       " 'Adding a dimension to every element of a numpy.array',\n",
       " 'How to truncate matrix using NumPy (Python)',\n",
       " 'How do I use a 2-d boolean array to select from a 1-d array on a per-row basis in numpy?',\n",
       " 'Is there a way to install the scipy special module without the rest of scipy?',\n",
       " 'Statistics with numpy',\n",
       " 'Any way to create a NumPy matrix with C API?',\n",
       " 'Is there a way to reduce scipy/numpy precision to reduce memory consumption?',\n",
       " 'Can I compile numpy &amp; scipy as eggs for free on Windows32?',\n",
       " 'Matplotlib suddenly crashes after reinstalling Xcode?',\n",
       " 'Running numpy from cygwin',\n",
       " 'numpy linear algebra basic help',\n",
       " 'Storing information on points in a 3d space',\n",
       " 'How to modify a NumPy.recarray using its two views',\n",
       " 'Is &#39;for x in array&#39; always result in sorted x? [Python/NumPy]',\n",
       " 'Numpy: Is there an array size limit?',\n",
       " 'Multidimensional list(array) reassignment problem',\n",
       " 'How to find the compiled extensions modules in numpy',\n",
       " 'What does matrix**2 mean in python/numpy?',\n",
       " 'How to pickle numpy&#39;s Inf objects?',\n",
       " 'How can I generate a complete histogram with numpy?',\n",
       " 'Python 2.5 and 2.6 and Numpy compatibility problem',\n",
       " 'NumPy and memmap: [Errno 24] Too many open files',\n",
       " 'Using lambda for a constraint function',\n",
       " 'Definition of mathematical operations (sin…) on NumPy arrays containing objects',\n",
       " 'numpy.extract and numpy.any functions, is it possible to make it simpler way?',\n",
       " 'Adding row to numpy recarray',\n",
       " 'Removing Array Elements in Python while keeping track of their position',\n",
       " 'Why does an assignment for double-sliced numpy arrays not work?',\n",
       " 'How to create 3 dimensions matrix in numpy , like matlab a(:,:,:)',\n",
       " 'Loading and saving numpy matrix']"
      ]
     },
     "execution_count": 8,
     "metadata": {},
     "output_type": "execute_result"
    }
   ],
   "source": [
    "questions = get_questions(tags)\n",
    "questions[0]"
   ]
  },
  {
   "cell_type": "code",
   "execution_count": 9,
   "metadata": {},
   "outputs": [
    {
     "data": {
      "text/plain": [
       "[{'probability': 0.6837819814682007,\n",
       "  'title': 'Adding a dimension to every element of a numpy.array'},\n",
       " {'probability': 0.4473450779914856,\n",
       "  'title': 'Is &#39;for x in array&#39; always result in sorted x? [Python/NumPy]'},\n",
       " {'probability': 0.7187051773071289,\n",
       "  'title': 'Definition of mathematical operations (sin…) on NumPy arrays containing objects'},\n",
       " {'probability': 0.7189610004425049,\n",
       "  'title': 'Removing Array Elements in Python while keeping track of their position'},\n",
       " {'probability': 0.7198627591133118,\n",
       "  'title': 'Returning array of data mapping values to parameters in python'},\n",
       " {'probability': 0.7035109996795654,\n",
       "  'title': 'Calculating conditional probabilities from joint pmfs in numpy, too slow. Ideas? (python-numpy)'},\n",
       " {'probability': 0.7655227184295654,\n",
       "  'title': 'Simple question: In numpy how do you make a multidimensional array of arrays?'},\n",
       " {'probability': 0.7191239595413208,\n",
       "  'title': 'Better use a tuple or numpy array for storing coordinates'},\n",
       " {'probability': 0.7433093786239624,\n",
       "  'title': 'Convert a python numpy array to c++ stl vector'},\n",
       " {'probability': 0.801775336265564,\n",
       "  'title': 'Extending a series of nonuniform netcdf data in a numpy array'},\n",
       " {'probability': 0.7834137678146362, 'title': 'Objects array with numpy'},\n",
       " {'probability': 0.7167177796363831,\n",
       "  'title': 'removing pairs of elements from numpy arrays that are NaN (or another value) in Python'},\n",
       " {'probability': 0.7786376476287842,\n",
       "  'title': 'merging indexed array in Python'},\n",
       " {'probability': 0.6731962561607361,\n",
       "  'title': 'How does one wrap numpy array types?'},\n",
       " {'probability': 0.5836211442947388,\n",
       "  'title': 'linear combinations in python/numpy'},\n",
       " {'probability': 0.7813262939453125,\n",
       "  'title': 'Python: shape of a matrix and imshow()'},\n",
       " {'probability': 0.693618655204773,\n",
       "  'title': 'Python: Error --&gt; setting an array element with a sequence'},\n",
       " {'probability': 0.7336097955703735,\n",
       "  'title': 'Create a new array from numpy array based on the conditions from a list'},\n",
       " {'probability': 0.7876847386360168,\n",
       "  'title': 'Organizing and building a numpy array for a dynamic equation input'},\n",
       " {'probability': 0.6521915197372437,\n",
       "  'title': 'Numpy - why value error for NaN when trying to delete rows'},\n",
       " {'probability': 0.7550128698348999,\n",
       "  'title': 'Arithmetic Progression in Python without storing all the values'},\n",
       " {'probability': 0.7873612642288208,\n",
       "  'title': 'calculating means of many matrices in numpy'},\n",
       " {'probability': 0.7920145988464355,\n",
       "  'title': 'error message when populating cell in 2d numpy array'},\n",
       " {'probability': 0.6649584770202637, 'title': 'Numpy.array indexing question'},\n",
       " {'probability': 0.7745848894119263, 'title': 'Python Numpy ndarray'},\n",
       " {'probability': 0.6641198992729187,\n",
       "  'title': 'How do I create a numpy array from string?'},\n",
       " {'probability': 0.7974776029586792,\n",
       "  'title': 'Modifying an advanced-indexed subset of a NumPy recarray in place'},\n",
       " {'probability': 0.6199626922607422,\n",
       "  'title': 'Python &quot;Value Error: cannot delete array elements&quot; -- Why am I getting this?'},\n",
       " {'probability': 0.699648380279541,\n",
       "  'title': 'How to detect if the values in array are in a certain range and return a binary array in Python?'},\n",
       " {'probability': 0.6163843870162964,\n",
       "  'title': 'How to force a ndarray show in normal way instead of scientific notation?'},\n",
       " {'probability': 0.6338167190551758,\n",
       "  'title': 'Using C#, what is the most efficient method of converting a string containing binary data to an array of bytes'},\n",
       " {'probability': 0.7567685842514038,\n",
       "  'title': 'Computationally efficient three dimensional arrays in C'},\n",
       " {'probability': 0.6772820949554443,\n",
       "  'title': 'How can I get the unique values of an array in .net?'},\n",
       " {'probability': 0.5914599895477295,\n",
       "  'title': 'How do I convert a Ruby string with brackets to an array?'},\n",
       " {'probability': 0.6211754083633423,\n",
       "  'title': 'Is is possible to convert C# double[,,] array to double[] without making a copy'},\n",
       " {'probability': 0.7314060926437378, 'title': 'Large array arithmetics in C#'},\n",
       " {'probability': 0.6979132890701294,\n",
       "  'title': 'C101: the best way to fill an array from user input?'},\n",
       " {'probability': 0.6701231002807617,\n",
       "  'title': 'Fastest way to see how many bytes are equal between fixed length arrays'},\n",
       " {'probability': 0.14412304759025574,\n",
       "  'title': 'What is the meaning and impication of one-element-too-large array/queue?'},\n",
       " {'probability': 0.7167399525642395, 'title': 'Java: Arrays &amp; Vectors'},\n",
       " {'probability': 0.5795161724090576,\n",
       "  'title': 'Problem with vector inside a class'},\n",
       " {'probability': 0.6847542524337769,\n",
       "  'title': 'Converting std::vector&lt;&gt;::iterator to .NET interface in C++/CLI'},\n",
       " {'probability': 0.7548230290412903,\n",
       "  'title': 'Using Length() with multi-dimensional dynamic arrays in Delphi'},\n",
       " {'probability': 0.6080185770988464,\n",
       "  'title': 'Object arrays in method signatures'},\n",
       " {'probability': 0.7232792377471924,\n",
       "  'title': 'Serialization of a long array (in C)'},\n",
       " {'probability': 0.6895970702171326,\n",
       "  'title': 'How do I shrink an array in Perl?'},\n",
       " {'probability': 0.6408326029777527,\n",
       "  'title': 'Best practices for handling variable size arrays in c / c++?'},\n",
       " {'probability': 0.6725276112556458,\n",
       "  'title': 'Insert array into database in a single row'},\n",
       " {'probability': 0.6553620100021362,\n",
       "  'title': 'What&#39;s faster in VB? Removing an element from an array or inserting one?'},\n",
       " {'probability': 0.652572751045227, 'title': 'PHP Array Help'},\n",
       " {'probability': 0.5587534308433533,\n",
       "  'title': 'What is the best method of getting the key of the last added array item in PHP?'},\n",
       " {'probability': 0.651199996471405,\n",
       "  'title': 'What&#39;s the C# method/syntax for converting an array to a simple string?'},\n",
       " {'probability': 0.6486424207687378,\n",
       "  'title': 'Convert Byte Array to Integer In VB.Net'},\n",
       " {'probability': 0.8014239072799683, 'title': 'Dynamic Arrays'},\n",
       " {'probability': 0.588876485824585,\n",
       "  'title': 'How do you remove a value that has an empty key from an associative array in PHP?'},\n",
       " {'probability': 0.5041822791099548,\n",
       "  'title': 'Is there an expandable list of object references in Java?'},\n",
       " {'probability': 0.6449152231216431,\n",
       "  'title': 'Howto initialise char array style string in constructor'},\n",
       " {'probability': 0.6192177534103394,\n",
       "  'title': 'can you write extension methods on type arrays?'},\n",
       " {'probability': 0.6885470151901245,\n",
       "  'title': 'KSH scripting: how to split on &#39;,&#39; when values have escaped commas?'},\n",
       " {'probability': 0.6443963050842285,\n",
       "  'title': 'How to disable array bounds checking in opensource Java?'},\n",
       " {'probability': 0.6837819814682007,\n",
       "  'title': 'Adding a dimension to every element of a numpy.array'},\n",
       " {'probability': 0.804431676864624,\n",
       "  'title': 'How to truncate matrix using NumPy (Python)'},\n",
       " {'probability': 0.6817046403884888,\n",
       "  'title': 'How do I use a 2-d boolean array to select from a 1-d array on a per-row basis in numpy?'},\n",
       " {'probability': 0.5641103982925415,\n",
       "  'title': 'Is there a way to install the scipy special module without the rest of scipy?'},\n",
       " {'probability': 0.7369281053543091, 'title': 'Statistics with numpy'},\n",
       " {'probability': 0.7898566126823425,\n",
       "  'title': 'Any way to create a NumPy matrix with C API?'},\n",
       " {'probability': 0.47015634179115295,\n",
       "  'title': 'Is there a way to reduce scipy/numpy precision to reduce memory consumption?'},\n",
       " {'probability': 0.6857133507728577,\n",
       "  'title': 'Can I compile numpy &amp; scipy as eggs for free on Windows32?'},\n",
       " {'probability': 0.5797854661941528,\n",
       "  'title': 'Matplotlib suddenly crashes after reinstalling Xcode?'},\n",
       " {'probability': 0.7842108011245728, 'title': 'Running numpy from cygwin'},\n",
       " {'probability': 0.7086840867996216,\n",
       "  'title': 'numpy linear algebra basic help'},\n",
       " {'probability': 0.6484538316726685,\n",
       "  'title': 'Storing information on points in a 3d space'},\n",
       " {'probability': 0.6089503765106201,\n",
       "  'title': 'How to modify a NumPy.recarray using its two views'},\n",
       " {'probability': 0.4473450779914856,\n",
       "  'title': 'Is &#39;for x in array&#39; always result in sorted x? [Python/NumPy]'},\n",
       " {'probability': 0.7098460793495178,\n",
       "  'title': 'Numpy: Is there an array size limit?'},\n",
       " {'probability': 0.4283197522163391,\n",
       "  'title': 'Multidimensional list(array) reassignment problem'},\n",
       " {'probability': 0.7794283032417297,\n",
       "  'title': 'How to find the compiled extensions modules in numpy'},\n",
       " {'probability': 0.2394242137670517,\n",
       "  'title': 'What does matrix**2 mean in python/numpy?'},\n",
       " {'probability': 0.5559911727905273,\n",
       "  'title': 'How to pickle numpy&#39;s Inf objects?'},\n",
       " {'probability': 0.7319680452346802,\n",
       "  'title': 'How can I generate a complete histogram with numpy?'},\n",
       " {'probability': 0.7444937825202942,\n",
       "  'title': 'Python 2.5 and 2.6 and Numpy compatibility problem'},\n",
       " {'probability': 0.7477220296859741,\n",
       "  'title': 'NumPy and memmap: [Errno 24] Too many open files'},\n",
       " {'probability': 0.6964791417121887,\n",
       "  'title': 'Using lambda for a constraint function'},\n",
       " {'probability': 0.7187051773071289,\n",
       "  'title': 'Definition of mathematical operations (sin…) on NumPy arrays containing objects'},\n",
       " {'probability': 0.5704175233840942,\n",
       "  'title': 'numpy.extract and numpy.any functions, is it possible to make it simpler way?'},\n",
       " {'probability': 0.7464353442192078, 'title': 'Adding row to numpy recarray'},\n",
       " {'probability': 0.7189610004425049,\n",
       "  'title': 'Removing Array Elements in Python while keeping track of their position'},\n",
       " {'probability': 0.7594826221466064,\n",
       "  'title': 'Why does an assignment for double-sliced numpy arrays not work?'},\n",
       " {'probability': 0.7991104125976562,\n",
       "  'title': 'How to create 3 dimensions matrix in numpy , like matlab a(:,:,:)'}]"
      ]
     },
     "execution_count": 9,
     "metadata": {},
     "output_type": "execute_result"
    }
   ],
   "source": [
    "similarity = get_similarity(questions[0])\n",
    "similarity"
   ]
  },
  {
   "cell_type": "code",
   "execution_count": null,
   "metadata": {},
   "outputs": [],
   "source": []
  }
 ],
 "metadata": {
  "accelerator": "TPU",
  "colab": {
   "collapsed_sections": [],
   "name": "Untitled0.ipynb",
   "private_outputs": true,
   "provenance": [],
   "version": "0.3.2"
  },
  "kernelspec": {
   "display_name": "Python 3",
   "language": "python",
   "name": "python3"
  },
  "language_info": {
   "codemirror_mode": {
    "name": "ipython",
    "version": 3
   },
   "file_extension": ".py",
   "mimetype": "text/x-python",
   "name": "python",
   "nbconvert_exporter": "python",
   "pygments_lexer": "ipython3",
   "version": "3.7.3"
  }
 },
 "nbformat": 4,
 "nbformat_minor": 1
}
