{
  "nbformat": 4,
  "nbformat_minor": 0,
  "metadata": {
    "colab": {
      "name": "Untitled0.ipynb",
      "version": "0.3.2",
      "provenance": [],
      "private_outputs": true,
      "collapsed_sections": []
    },
    "kernelspec": {
      "name": "python3",
      "display_name": "Python 3"
    },
    "accelerator": "TPU"
  },
  "cells": [
    {
      "cell_type": "code",
      "metadata": {
        "id": "n4NDfFcheOu0",
        "colab_type": "code",
        "colab": {}
      },
      "source": [
        "import tensorflow as tf\n",
        "import tensorflow_hub as hub\n",
        "import numpy as np\n",
        "import nltk\n",
        "import requests"
      ],
      "execution_count": 0,
      "outputs": []
    },
    {
      "cell_type": "code",
      "metadata": {
        "id": "lkG4-QnazgE9",
        "colab_type": "code",
        "colab": {}
      },
      "source": [
        "nltk.download('punkt')\n",
        "nltk.download('stopwords')"
      ],
      "execution_count": 0,
      "outputs": []
    },
    {
      "cell_type": "code",
      "metadata": {
        "id": "I78zFp9YzoCz",
        "colab_type": "code",
        "colab": {}
      },
      "source": [
        "input = \"\"\"how to define function in python\"\"\" \n",
        "\n",
        "from nltk.tokenize import word_tokenize\n",
        "tokenized_word=word_tokenize(input)\n",
        "\n",
        "from nltk.corpus import stopwords\n",
        "stop_words=set(stopwords.words(\"english\"))\n",
        "filtered_sent=[]\n",
        "for w in tokenized_word:\n",
        "    if w not in stop_words:\n",
        "        filtered_sent.append(w)"
      ],
      "execution_count": 0,
      "outputs": []
    },
    {
      "cell_type": "code",
      "metadata": {
        "id": "LpTs8MFa0TdI",
        "colab_type": "code",
        "colab": {}
      },
      "source": [
        "URL = 'https://api.stackexchange.com/2.2/questions?order=asc&sort=activity&tagged=python%3Bfunction%3Bdefinition&site=stackoverflow'\n",
        "\n",
        "r = requests.get(url = URL)\n",
        "data = r.json()\n",
        "messages = []\n",
        "for item in data['items']:\n",
        "  messages.append(item['title'])\n",
        "\n",
        "messages.append(input) "
      ],
      "execution_count": 0,
      "outputs": []
    },
    {
      "cell_type": "code",
      "metadata": {
        "id": "QswY5SA_iZE3",
        "colab_type": "code",
        "colab": {}
      },
      "source": [
        "module_url = \"https://tfhub.dev/google/universal-sentence-encoder/2\" \n",
        "\n",
        "embed = hub.Module(module_url)"
      ],
      "execution_count": 0,
      "outputs": []
    },
    {
      "cell_type": "code",
      "metadata": {
        "id": "mRwo0_DB27Zf",
        "colab_type": "code",
        "colab": {}
      },
      "source": [
        "similarity_input_placeholder = tf.placeholder(tf.string, shape=(None))\n",
        "similarity_message_encodings = embed(similarity_input_placeholder)\n",
        "with tf.Session() as session:\n",
        "  session.run(tf.global_variables_initializer())\n",
        "  session.run(tf.tables_initializer())\n",
        "  message_embeddings = session.run(similarity_message_encodings, feed_dict={similarity_input_placeholder: messages})\n",
        "  per = np.inner(message_embeddings, message_embeddings[-1:])\n"
      ],
      "execution_count": 0,
      "outputs": []
    },
    {
      "cell_type": "code",
      "metadata": {
        "id": "RfpKaR5NenCt",
        "colab_type": "code",
        "colab": {}
      },
      "source": [
        "print(per)"
      ],
      "execution_count": 0,
      "outputs": []
    },
    {
      "cell_type": "code",
      "metadata": {
        "id": "B9deYtL_en5D",
        "colab_type": "code",
        "colab": {}
      },
      "source": [
        ""
      ],
      "execution_count": 0,
      "outputs": []
    }
  ]
}